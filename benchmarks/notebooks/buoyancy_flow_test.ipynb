{
 "cells": [
  {
   "cell_type": "code",
   "execution_count": 5,
   "id": "ac8459bd",
   "metadata": {},
   "outputs": [],
   "source": [
    "import porepy as pp\n",
    "import numpy as np\n",
    "import scipy.sparse as sps\n",
    "\n",
    "from time import time\n",
    "\n",
    "from buoyancy_flow_model import ModelGeometry2D, ModelGeometry3D\n",
    "from buoyancy_flow_model import (\n",
    "    ModelMDGeometry2D,\n",
    "    ModelMDGeometry3D,\n",
    ")\n",
    "from buoyancy_flow_model import (\n",
    "    BuoyancyFlowModel2N,\n",
    "    BuoyancyFlowModel3N,\n",
    ")\n",
    "from buoyancy_flow_model import to_Mega\n",
    "\n",
    "\n",
    "# Parameterization list for both tests\n",
    "Parameterization = [\n",
    "    (BuoyancyFlowModel2N, True, 4),\n",
    "    (BuoyancyFlowModel2N, False, 4),\n",
    "    (BuoyancyFlowModel3N, True, 4),\n",
    "    (BuoyancyFlowModel3N, False, 4),\n",
    "]\n",
    "\n",
    "\n",
    "def _run_buoyancy_model(\n",
    "    model_class: type,\n",
    "    mesh_2d_Q: bool,\n",
    "    expected_order_loss: int,\n",
    "    md: bool = False,\n",
    "    do_run = True,\n",
    ") -> None:\n",
    "    \"\"\"Run buoyancy flow simulation for given parameters.\"\"\"\n",
    "    residual_tolerance = 10.0 ** (-expected_order_loss)\n",
    "    day = 86400\n",
    "    if md:\n",
    "        tf = 0.5 * day\n",
    "        dt = 0.25 * day\n",
    "        geometry2d = ModelMDGeometry2D\n",
    "        geometry3d = ModelMDGeometry3D\n",
    "    else:\n",
    "        tf = 2.0 * day\n",
    "        dt = 1.0 * day\n",
    "        geometry2d = ModelGeometry2D\n",
    "        geometry3d = ModelGeometry3D\n",
    "\n",
    "    solid_constants = pp.SolidConstants(\n",
    "        permeability=1.0e-14,\n",
    "        porosity=0.1,\n",
    "        thermal_conductivity=2.0 * to_Mega,\n",
    "        density=2500.0,\n",
    "        specific_heat_capacity=1000.0 * to_Mega,\n",
    "    )\n",
    "    time_manager = pp.TimeManager(\n",
    "        schedule=[0.0, tf],\n",
    "        dt_init=dt,\n",
    "        constant_dt=True,\n",
    "        iter_max=50,\n",
    "        print_info=True,\n",
    "    )\n",
    "    params = {\n",
    "        \"fractional_flow\": True,\n",
    "        \"enable_buoyancy_effects\": True,\n",
    "        \"material_constants\": {\"solid\": solid_constants},\n",
    "        \"time_manager\": time_manager,\n",
    "        \"apply_schur_complement_reduction\": False,\n",
    "        \"nl_convergence_tol\": np.inf,\n",
    "        \"nl_convergence_tol_res\": residual_tolerance,\n",
    "        \"max_iterations\": 50,\n",
    "        \"expected_order_loss\": expected_order_loss,\n",
    "    }\n",
    "    # Combine geometry with model class\n",
    "    if mesh_2d_Q:\n",
    "\n",
    "        class Model2D(geometry2d, model_class):\n",
    "            pass\n",
    "\n",
    "        model = Model2D(params)\n",
    "    else:\n",
    "\n",
    "        class Model3D(geometry3d, model_class):\n",
    "            pass\n",
    "\n",
    "        model = Model3D(params)\n",
    "    if do_run:\n",
    "        pp.run_time_dependent_model(model, params)\n",
    "    return model\n",
    "\n"
   ]
  },
  {
   "cell_type": "code",
   "execution_count": 30,
   "id": "9f7a2d53",
   "metadata": {},
   "outputs": [
    {
     "name": "stdout",
     "output_type": "stream",
     "text": [
      "Time elapsed test_buoyancy_flow.py: 41.221171379089355\n"
     ]
    }
   ],
   "source": [
    "tic = time()\n",
    "model = _run_buoyancy_model(BuoyancyFlowModel3N, True, 2, md=True, do_run = True)  # type: ignore\n",
    "print(\"Time elapsed test_buoyancy_flow.py:\", time() - tic)\n",
    "\n",
    "\n",
    "eqs = model.equation_system\n"
   ]
  },
  {
   "cell_type": "code",
   "execution_count": 31,
   "id": "7a34e154",
   "metadata": {},
   "outputs": [
    {
     "name": "stdout",
     "output_type": "stream",
     "text": [
      "Time elapsed mass_balance_equation: 0.016039299964904784\n",
      "Time elapsed interface_darcy_flux_equation: 0.014029192924499511\n",
      "Time elapsed well_flux_equation: 0.000751042366027832\n",
      "Time elapsed component_mass_balance_equation_C5H12: 0.2024096965789795\n",
      "Time elapsed component_mass_balance_equation_CH4: 0.18585705757141113\n",
      "Time elapsed energy_balance_equation: 0.18183772563934325\n",
      "Time elapsed interface_fourier_flux_equation: 0.0038093090057373046\n",
      "Time elapsed interface_enthalpy_flux_equation: 0.00901634693145752\n",
      "Time elapsed well_enthalpy_flux_equation: 0.0007307291030883789\n",
      "Time elapsed elimination_of_s_oil_on_grids_[304, 305, 306, 307, 308, 309, 310, 311, 312, 313]: 0.00039136409759521484\n",
      "Time elapsed elimination_of_s_gas_on_grids_[304, 305, 306, 307, 308, 309, 310, 311, 312, 313]: 0.00038347244262695315\n",
      "Time elapsed elimination_of_x_C5H12_water_on_grids_[304, 305, 306, 307, 308, 309, 310, 311, 312, 313]: 0.000376129150390625\n",
      "Time elapsed elimination_of_x_CH4_water_on_grids_[304, 305, 306, 307, 308, 309, 310, 311, 312, 313]: 0.0003843545913696289\n",
      "Time elapsed elimination_of_x_C5H12_oil_on_grids_[304, 305, 306, 307, 308, 309, 310, 311, 312, 313]: 0.000377964973449707\n",
      "Time elapsed elimination_of_x_CH4_oil_on_grids_[304, 305, 306, 307, 308, 309, 310, 311, 312, 313]: 0.00038211345672607423\n",
      "Time elapsed elimination_of_x_C5H12_gas_on_grids_[304, 305, 306, 307, 308, 309, 310, 311, 312, 313]: 0.0003792524337768555\n",
      "Time elapsed elimination_of_x_CH4_gas_on_grids_[304, 305, 306, 307, 308, 309, 310, 311, 312, 313]: 0.00038034915924072265\n",
      "Time elapsed elimination_of_temperature_on_grids_[304, 305, 306, 307, 308, 309, 310, 311, 312, 313]: 0.0003786325454711914\n",
      "Total time elapsed for 10 iterations: 0.6179140329360961\n"
     ]
    }
   ],
   "source": [
    "num_iters = 10\n",
    "tot_time = 0.0\n",
    "for key in eqs.equations.keys():\n",
    "    tic = time()\n",
    "    for _ in range(num_iters):\n",
    "        eqs.evaluate(eqs.equations[key])\n",
    "    toc = time()\n",
    "    tot_time += (toc - tic)/num_iters\n",
    "    print(f\"Time elapsed {key}: {(toc - tic)/num_iters}\")\n",
    "\n",
    "print(f\"Total time elapsed for {num_iters} iterations: {tot_time}\")"
   ]
  },
  {
   "cell_type": "code",
   "execution_count": 32,
   "id": "2d98b985",
   "metadata": {},
   "outputs": [
    {
     "name": "stdout",
     "output_type": "stream",
     "text": [
      "Time elapsed advected_enthalpy: 0.00434105396270752\n",
      "Time elapsed enthalpy_buoyancy: 0.08195774555206299\n",
      "Time elapsed buoyancy H2O: 0.28471598625183103\n",
      "Time elapsed buoyancy C5H12: 0.274661660194397\n",
      "Time elapsed buoyancy CH4: 0.27577354907989504\n"
     ]
    }
   ],
   "source": [
    "domains = model.mdg.subdomains()\n",
    "\n",
    "methods = [model.advection_weight_energy_balance(domains),\n",
    "           model.enthalpy_buoyancy(domains)]\n",
    "\n",
    "for method in methods:\n",
    "    tic = time()\n",
    "    for _ in range(num_iters):\n",
    "        eqs.evaluate(method)\n",
    "    toc = time()\n",
    "    print(f\"Time elapsed {method.name}: {(toc - tic)/num_iters}\")\n",
    "\n",
    "\n",
    "for component in model.fluid.components:\n",
    "    tic = time()\n",
    "    for _ in range(num_iters):\n",
    "        eqs.evaluate(model.component_buoyancy(component, domains))\n",
    "    toc = time()\n",
    "    print(f\"Time elapsed buoyancy {component.name}: {(toc - tic)/num_iters}\")\n",
    "           \n"
   ]
  },
  {
   "cell_type": "code",
   "execution_count": 51,
   "id": "944a2759",
   "metadata": {},
   "outputs": [
    {
     "name": "stdout",
     "output_type": "stream",
     "text": [
      "Time elapsed AdArray addition: 0.04717597961425781\n",
      "Time elapsed numpy array addition: 0.0014455318450927734\n"
     ]
    }
   ],
   "source": [
    "sz = 10000\n",
    "x = np.random.rand(sz)\n",
    "y = np.random.rand(sz)\n",
    "\n",
    "A = sps.random(sz, sz, density=0.01, format=\"csr\")\n",
    "\n",
    "\n",
    "x_ad, y_ad = pp.ad.initAdArrays([x, y])\n",
    "\n",
    "tic = time()\n",
    "for _ in range(num_iters):\n",
    "    z = x_ad * y_ad\n",
    "    z = A @ z + x_ad\n",
    "toc = time()\n",
    "print(f\"Time elapsed AdArray addition: {(toc - tic)/num_iters}\")\n",
    "\n",
    "a = np.vstack([x, y])\n",
    "b = np.vstack([y, x])\n",
    "\n",
    "tic = time()\n",
    "for _ in range(num_iters):\n",
    "    z = a * b\n",
    "    z = A @ x + z[0]\n",
    "toc = time()\n",
    "print(f\"Time elapsed numpy array addition: {(toc - tic)/num_iters}\")\n",
    "\n"
   ]
  },
  {
   "cell_type": "code",
   "execution_count": 38,
   "id": "ae91a5a7",
   "metadata": {},
   "outputs": [
    {
     "name": "stdout",
     "output_type": "stream",
     "text": [
      "Time elapsed for a + b: 0.008311796188354491\n",
      "Time elapsed for a += b: 0.004838833808898926\n"
     ]
    }
   ],
   "source": [
    "sz = 1000000\n",
    "a = np.random.rand(5, sz)\n",
    "b = np.random.rand(5, sz)\n",
    "\n",
    "tic = time()\n",
    "for _ in range(100):\n",
    "    c = a + b\n",
    "toc = time()\n",
    "print(f\"Time elapsed for a + b: {(toc - tic)/100}\")\n",
    "\n",
    "tic = time()\n",
    "for _ in range(100):\n",
    "    a += b\n",
    "toc = time()\n",
    "print(f\"Time elapsed for a += b: {(toc - tic)/100}\")\n",
    "\n"
   ]
  },
  {
   "cell_type": "code",
   "execution_count": null,
   "id": "048bbfd0",
   "metadata": {},
   "outputs": [],
   "source": []
  }
 ],
 "metadata": {
  "kernelspec": {
   "display_name": "Python 3",
   "language": "python",
   "name": "python3"
  },
  "language_info": {
   "codemirror_mode": {
    "name": "ipython",
    "version": 3
   },
   "file_extension": ".py",
   "mimetype": "text/x-python",
   "name": "python",
   "nbconvert_exporter": "python",
   "pygments_lexer": "ipython3",
   "version": "3.12.7"
  }
 },
 "nbformat": 4,
 "nbformat_minor": 5
}
